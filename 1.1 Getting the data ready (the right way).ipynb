{
 "cells": [
  {
   "cell_type": "markdown",
   "metadata": {},
   "source": [
    "# Data flow\n",
    "So in the last notebook I showed you how you can preprocess the data and store it in .npy files.\n",
    "\n",
    "The problem is the entire dataset is gonna be stored in memory while trainig, it works now because it's a fairly small dataset, it will be ugly with big datasets, so let's do things right this time"
   ]
  },
  {
   "cell_type": "markdown",
   "metadata": {},
   "source": [
    "## Getting the data\n",
    "let's create a 'data' directory in our cwd and store the data in it"
   ]
  },
  {
   "cell_type": "code",
   "execution_count": null,
   "metadata": {},
   "outputs": [],
   "source": [
    "!mkdir data\n",
    "!wget -P data/ https://s3.amazonaws.com/video.udacity-data.com/topher/2018/May/5aea1b91_train-test-data/train-test-data.zip\n",
    "!unzip -n data/train-test-data.zip -d data"
   ]
  },
  {
   "cell_type": "code",
   "execution_count": 1,
   "metadata": {},
   "outputs": [],
   "source": [
    "import tensorflow as tf\n",
    "import numpy as np\n",
    "import pandas as pd\n",
    "import os\n",
    "import matplotlib.image as mpimg\n",
    "import cv2\n",
    "%matplotlib inline"
   ]
  },
  {
   "cell_type": "markdown",
   "metadata": {},
   "source": [
    "## The plan\n",
    "What exactly am I gonna do? eventually I will train a tensorflow model, these models' fit method accept generators of type\n",
    "```python\n",
    "tensorflow.keras.utils.Sequence\n",
    "```\n",
    "- We first need to create a class that inherits this Sequence type\n",
    "- Then we need to define some special methods\n",
    "  - `__init__` the initializer which will take all the customization parameters that we need like the output size and the csv file and what not\n",
    "  - `__len__` this generator will return one batch at a time and it needs to have a length that equals the number of batches\n",
    "  - `__getitem__` this function will return a complete batch and when it's called and only then do we load the batch into memory\n",
    "  - `on_epoch_end` this function is called at the end of each epoch and we'll use it to rearrange the indecies of the batch and shuffle the data\n",
    "- we shall also define some methods to be used in preprocessing\n",
    "\n",
    "But don't take my word for it. check out this awesome article [here](https://stanford.edu/~shervine/blog/keras-how-to-generate-data-on-the-fly)"
   ]
  },
  {
   "cell_type": "code",
   "execution_count": 2,
   "metadata": {},
   "outputs": [],
   "source": [
    "class FacialKeyPointsDataset(tf.keras.utils.Sequence):\n",
    "    def __init__(self, csv_file, root_dir, output_size, batch_size, shuffle=False, normalization=\"vector\"):\n",
    "        \"\"\"\n",
    "        initializing a generator for a spacific data directory\n",
    "        Args:\n",
    "            csv_file: the file that contains the points values and the names of the images\n",
    "            root_dir: the directory that contains all the images\n",
    "            output_size: the size of the output image after preprocessing\n",
    "            batch_size: what kind of explanation is needed here !!\n",
    "            shuffle: do you want to shuffle the data?\n",
    "        \"\"\"\n",
    "        self.keypts_frame = pd.read_csv(csv_file)\n",
    "        self.root_dir = root_dir\n",
    "        self.output_size = output_size\n",
    "        self.batch_size = batch_size\n",
    "        self.shuffle = shuffle\n",
    "        \n",
    "        # the mean and std vectors are going to be used in the normalized methods\n",
    "        # we also need them to be public properties of the object since we will need them\n",
    "        # after predicting the keypoints to undo normalization\n",
    "        \n",
    "        # I am trying different normalization methods for the keypoints\n",
    "        # spoiler alert: the vector normalization works best as expected because I am a genious\n",
    "        if normalization == 'scaler':\n",
    "            self.mean = self.keypts_frame.iloc[:, 1:].values.mean()\n",
    "            self.std = self.keypts_frame.iloc[:, 1:].values.std()\n",
    "        elif normalization == 'vector':\n",
    "            self.mean = self.keypts_frame.iloc[:, 1:].values.mean(axis=0).reshape(-1, 1)\n",
    "            self.std = self.keypts_frame.iloc[:, 1:].values.std(axis=0).reshape(-1, 1)\n",
    "        elif normalization == 'none':\n",
    "            self.mean = 0\n",
    "            self.std = 1\n",
    "        else:\n",
    "            raise ValueError(\"normalization must be one of 'scaler', 'vector', or 'none'\")\n",
    "        \n",
    "        self.on_epoch_end()\n",
    "\n",
    "\n",
    "    def on_epoch_end(self):\n",
    "        \"\"\" This function gets called after each epoch, duh!\"\"\"\n",
    "        \n",
    "        # all possible indecies in the dataframe\n",
    "        self.indecies = np.arange(len(self.keypts_frame))\n",
    "        if self.shuffle:\n",
    "            np.random.shuffle(self.indecies)\n",
    "\n",
    "\n",
    "    def __len__(self):\n",
    "        \"\"\" The generator returns one batch at a time so it makes sence that it would have\n",
    "        a length equal to the number of samples divided by the batch size\n",
    "        giving the total number of batches\n",
    "        \"\"\"\n",
    "        return int(len(self.keypts_frame) / self.batch_size)\n",
    "\n",
    "    def __getitem__(self, idx):\n",
    "        \"\"\" This is where the magic hapenes, the model will call this function using the\n",
    "        indexing operator 'generator[0]' or whatever.\n",
    "        then and only then will the generator load the batch into memory and the garbage collector\n",
    "        will remove it on the next iteration\n",
    "        \n",
    "        \"\"\"\n",
    "        # initialize the batch as empty arrays\n",
    "        X = np.empty((self.batch_size, *self.output_size, 1))\n",
    "        y = np.empty((self.batch_size, 136, 1))\n",
    "        \n",
    "        # get the indecies of the current batch only\n",
    "        indecies = self.indecies[idx*self.batch_size:(idx+1)*self.batch_size]\n",
    "\n",
    "        for index in range(len(indecies)):\n",
    "            # get the image name\n",
    "            image_name = os.path.join(self.root_dir,\n",
    "                                    self.keypts_frame.iloc[indecies[index], 0])\n",
    "            # load the image data\n",
    "            image = mpimg.imread(image_name)\n",
    "            \n",
    "            # if image has an alpha color channel, get rid of it\n",
    "            if(image.shape[2] == 4):\n",
    "                image = image[:,:,0:3]\n",
    "            \n",
    "            # get the associated key points\n",
    "            key_pts = self.keypts_frame.iloc[indecies[index], 1:].to_numpy()\n",
    "            \n",
    "            # process the image and the keypoints\n",
    "            image, key_pts = self.preprocess_train(image, key_pts)\n",
    "            image = image.reshape(*self.output_size, 1).astype(np.float32)\n",
    "            key_pts = key_pts.astype(np.float32)\n",
    "            \n",
    "            # add the image data to the initialized arrays\n",
    "            X[index,] = image\n",
    "            y[index] = key_pts\n",
    "        # return batch\n",
    "        return X, y\n",
    "    \n",
    "    def preprocess_train(self, image, key_pts):\n",
    "        image, key_pts = self.__rescale(image, key_pts)\n",
    "        image, key_pts = self.__randomCrop(image, key_pts)\n",
    "        image, key_pts = self.__normalize(image, key_pts)\n",
    "        return image, key_pts\n",
    "    \n",
    "    def preprocess_test(self, image):\n",
    "        key_pts = np.random.rand(136, 1)\n",
    "        image, key_pts = self.__rescale(image, key_pts, train=False)\n",
    "        image, key_pts = self.__normalize(image, key_pts)\n",
    "        return image\n",
    "        \n",
    "\n",
    "    def __normalize(self, image, key_pts):\n",
    "        \"\"\" Normailze image and key points\n",
    "        Args:\n",
    "            image: the image to be normalized\n",
    "            key_pts: the associated key points\n",
    "        Returns:\n",
    "            image_copy: normalized image\n",
    "            key_pts_copy: normalized key points numpy array of size (136, 1)\n",
    "        \"\"\"\n",
    "        image_copy = np.copy(image)\n",
    "        key_pts_copy = np.copy(key_pts)\n",
    "\n",
    "        # convert image to grayscale\n",
    "        image_copy = cv2.cvtColor(image, cv2.COLOR_RGB2GRAY)\n",
    "        \n",
    "        # scale color range from [0, 255] to [0, 1]\n",
    "        image_copy=  image_copy/255.0\n",
    "        \n",
    "        # scale keypoints to be centered around 0 with a range of [-1, 1]\n",
    "        key_pts_copy = (key_pts_copy - self.mean)/self.std\n",
    "        return image_copy, key_pts_copy\n",
    "    \n",
    "    def __randomCrop(self, image, key_pts):\n",
    "        key_pts = key_pts.reshape(-1, 2)\n",
    "        h, w = image.shape[:2]\n",
    "        new_h, new_w = self.output_size\n",
    "\n",
    "        top = np.random.randint(0, h - new_h)\n",
    "        left = np.random.randint(0, w - new_w)\n",
    "\n",
    "        image = image[top: top + new_h,\n",
    "                      left: left + new_w]\n",
    "\n",
    "        key_pts = key_pts - [left, top]\n",
    "\n",
    "        return image, key_pts.reshape(-1, 1)\n",
    "    \n",
    "    def __rescale(self, image, key_pts, train=True):\n",
    "        key_pts = key_pts.reshape(-1, 2)\n",
    "        h, w = image.shape[:2]\n",
    "\n",
    "        new_h, new_w = self.output_size\n",
    "\n",
    "        new_h, new_w = int(new_h), int(new_w)\n",
    "        # to be cropped later\n",
    "        if train:\n",
    "            new_h = new_h + 4\n",
    "            new_w = new_w + 4\n",
    "        \n",
    "        \n",
    "        img = cv2.resize(image, (new_w, new_h))\n",
    "        \n",
    "        key_pts = key_pts * [new_w / w, new_h / h]\n",
    "\n",
    "        return img, key_pts.reshape(-1, 1)\n",
    "    "
   ]
  },
  {
   "cell_type": "code",
   "execution_count": 3,
   "metadata": {},
   "outputs": [
    {
     "name": "stdout",
     "output_type": "stream",
     "text": [
      "115\n",
      "(30, 194, 194, 1) (30, 136, 1)\n"
     ]
    }
   ],
   "source": [
    "# now let's try it and debug it\n",
    "datagenerator = FacialKeyPointsDataset(csv_file='data/training_frames_keypoints.csv',\n",
    "                                         root_dir='data/training/',\n",
    "                                         output_size=(194, 194),\n",
    "                                         batch_size=30)\n",
    "\n",
    "print(len(datagenerator))\n",
    "X_batch, y_batch = datagenerator[len(datagenerator)-1]\n",
    "print(X_batch.shape, y_batch.shape)\n"
   ]
  },
  {
   "cell_type": "markdown",
   "metadata": {},
   "source": [
    "## Greate!\n",
    "the `X_batch` is of size `(batch_size, *output_size, 1)` which means we have 30 images that are on grayscale and of size 194 * 194\n",
    "\n",
    "let's plot one of them"
   ]
  },
  {
   "cell_type": "code",
   "execution_count": 4,
   "metadata": {},
   "outputs": [
    {
     "data": {
      "text/plain": [
       "<matplotlib.collections.PathCollection at 0x7f08a7aec9d0>"
      ]
     },
     "execution_count": 4,
     "metadata": {},
     "output_type": "execute_result"
    },
    {
     "data": {
      "image/png": "[encoded data removed]",
      "text/plain": [
       "<Figure size 432x288 with 1 Axes>"
      ]
     },
     "metadata": {
      "needs_background": "light"
     },
     "output_type": "display_data"
    }
   ],
   "source": [
    "import matplotlib.pyplot as plt\n",
    "plt.imshow(X_batch[0].reshape(194, 194), cmap=\"gray\")\n",
    "keypts = y_batch[0] * datagenerator.std + datagenerator.mean\n",
    "keypts = keypts.reshape(-1, 2)\n",
    "plt.scatter(keypts[:, 0], keypts[:, 1], marker=\".\", s=20, color=\"m\")"
   ]
  },
  {
   "cell_type": "markdown",
   "metadata": {},
   "source": [
    "## And there you go!\n",
    "now you have an effecient generator, in the next notebook we shall create the model and fit it to this generator"
   ]
  },
  {
   "cell_type": "code",
   "execution_count": null,
   "metadata": {},
   "outputs": [],
   "source": []
  },
  {
   "cell_type": "code",
   "execution_count": null,
   "metadata": {},
   "outputs": [],
   "source": []
  },
  {
   "cell_type": "code",
   "execution_count": null,
   "metadata": {},
   "outputs": [],
   "source": []
  },
  {
   "cell_type": "code",
   "execution_count": null,
   "metadata": {},
   "outputs": [],
   "source": []
  }
 ],
 "metadata": {
  "kernelspec": {
   "display_name": "Python 3",
   "language": "python",
   "name": "python3"
  },
  "language_info": {
   "codemirror_mode": {
    "name": "ipython",
    "version": 3
   },
   "file_extension": ".py",
   "mimetype": "text/x-python",
   "name": "python",
   "nbconvert_exporter": "python",
   "pygments_lexer": "ipython3",
   "version": "3.7.4"
  }
 },
 "nbformat": 4,
 "nbformat_minor": 2
}
